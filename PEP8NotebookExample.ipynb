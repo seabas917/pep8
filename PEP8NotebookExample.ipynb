{
 "cells": [
  {
   "cell_type": "markdown",
   "source": [
    "## Clean Code notbook\n",
    "---\n",
    "\n",
    "- Making Notes: [PEP 8 guidelines for code layout](https://www.python.org/dev/peps/pep-0008/?#code-lay-out)\n",
    "\n",
    "<details>\n",
    "    <summary> Here is a short list of coding best practices according to PEP8: </summary>\n",
    "\n",
    "- Use 4 spaces for indentation\n",
    "- Limit all lines to a maximum of 79 characters\n",
    "- Use blank lines to separate functions and classes, and inside functions to separate logical sections\n",
    "- Use spaces around operators and after commas, but not directly inside bracketing constructs\n",
    "- Name variables, functions, and modules according to their purpose\n",
    "- Use uppercase letters for constants and lowercase letters for variables and functions\n",
    "- Use docstrings to document code\n",
    "- Use exception handling for expected errors and avoid using bare `except:` statements\n",
    "- Use list comprehensions and generator expressions instead of `map()` and `filter()`\n",
    "\n",
    "</details>\n",
    "\n",
    "---"
   ],
   "metadata": {
    "collapsed": false
   }
  },
  {
   "cell_type": "code",
   "execution_count": 1,
   "metadata": {},
   "outputs": [
    {
     "name": "stdout",
     "output_type": "stream",
     "text": [
      "Task Duration: 2 seconds, Category: 7\n"
     ]
    }
   ],
   "source": [
    "import math\n",
    "import numpy as np\n",
    "\n",
    "def categorize_task(num):\n",
    "    return num + 5\n",
    "\n",
    "\n",
    "execution_time = 1\n",
    "end_time = 6\n",
    "start_time = 4\n",
    "\n",
    "execution_time = end_time - start_time\n",
    "category = categorize_task(execution_time)\n",
    "print('Task Duration: {} seconds, Category: {}'.format(execution_time, category))"
   ]
  },
  {
   "attachments": {},
   "cell_type": "markdown",
   "metadata": {},
   "source": [
    "---\n",
    "\n",
    "## Example: Writing Modular Code\n",
    "\n",
    "\n",
    "<details>\n",
    "    <summary> Tips  </summary>\n",
    "    \n",
    "Tip: DRY (Don't Repeat Yourself)\n",
    "Don't repeat yourself! Modularization allows you to reuse parts of your code. Generalize and consolidate repeated code in functions or loops.\n",
    "\n",
    "Tip: Abstract out logic to improve readability\n",
    "Abstracting out code into a function not only makes it less repetitive, but also improves readability with descriptive function names. Although your code can become more readable when you abstract out logic into functions, it is possible to over-engineer this and have way too many modules, so use your judgement.\n",
    "\n",
    "Tip: Minimize the number of entities (functions, classes, modules, etc.)\n",
    "There are trade-offs to having function calls instead of inline logic. If you have broken up your code into an unnecessary amount of functions and modules, you'll have to jump around everywhere if you want to view the implementation details for something that may be too small to be worth it. Creating more modules doesn't necessarily result in effective modularization.\n",
    "\n",
    "Tip: Functions should do one thing\n",
    "Each function you write should be focused on doing one thing. If a function is doing multiple things, it becomes more difficult to generalize and reuse. Generally, if there's an \"and\" in your function name, consider refactoring.\n",
    "\n",
    "Tip: Arbitrary variable names can be more effective in certain functions\n",
    "Arbitrary variable names in general functions can actually make the code more readable.\n",
    "\n",
    "Tip: Try to use fewer than three arguments per function\n",
    "Try to use no more than three arguments when possible. This is not a hard rule and there are times when it is more appropriate to use many parameters. But in many cases, it's more effective to use fewer arguments. Remember we are modularizing to simplify our code and make it more efficient. If your function has a lot of parameters, you may want to rethink how you are splitting this up.\n",
    "\n",
    "</details>"
   ]
  },
  {
   "cell_type": "code",
   "execution_count": null,
   "metadata": {},
   "outputs": [],
   "source": [
    "import math\n",
    "import numpy as np\n",
    "\n",
    "def flat_curve(arr, n):\n",
    "    curved_arr = [i + n for i in arr]\n",
    "    print (np.mean(curved_arr))\n",
    "    return curved_arr\n",
    "\n",
    "def square_root_curve(arr):\n",
    "    curved_arr = [math.sqrt (i) * 10 for i in arr]\n",
    "    print (np. mean (curved_arr))\n",
    "    return curved_arr\n",
    "\n",
    "test_scores = [88, 92, 79, 93, 85]\n",
    "curved_5 = flat_curve(test_scores, 5) curved_10 = flat_curve(test_scores, 10)\n",
    "curved_sqrt = square_root_curve(test_scores)"
   ]
  },
  {
   "attachments": {},
   "cell_type": "markdown",
   "metadata": {},
   "source": [
    "### Solution"
   ]
  },
  {
   "attachments": {},
   "cell_type": "markdown",
   "metadata": {},
   "source": [
    "\n",
    "<details>\n",
    "    <summary> In this code exaple  </summary>\n",
    "    \n",
    "In this code, we import the math and numpy modules. We define two functions, flat_curve and square_root_curve, which take in an array and return a modified array.\n",
    "\n",
    "The flat_curve function adds a given number n to each element in the input array, then calculates and prints the mean of the modified array using numpy.mean(), and returns the modified array.\n",
    "\n",
    "The square_root_curve function takes the square root of each element in the input array, multiplies it by 10, and returns the modified array. Similar to flat_curve, this function also calculates and prints the mean of the modified array using numpy.mean().\n",
    "\n",
    "Finally, we create three modified arrays, curved_5, curved_10, and curved_sqrt, by calling the flat_curve and square_root_curve functions with the test_scores array and different arguments.\n",
    "\n",
    "</details>\n",
    "\n"
   ]
  },
  {
   "cell_type": "code",
   "execution_count": null,
   "metadata": {},
   "outputs": [],
   "source": [
    "import math\n",
    "import numpy as np\n",
    "\n",
    "def flat_curve(arr, n):\n",
    "    curved_arr = [i + n for i in arr]\n",
    "    print(np.mean(curved_arr))\n",
    "    return curved_arr\n",
    "\n",
    "def square_root_curve(arr):\n",
    "    curved_arr = [math.sqrt(i) * 10 for i in arr]\n",
    "    print(np.mean(curved_arr))\n",
    "    return curved_arr\n",
    "\n",
    "test_scores = [88, 92, 79, 93, 85]\n",
    "curved_5 = flat_curve(test_scores, 5)\n",
    "curved_10 = flat_curve(test_scores, 10)\n",
    "curved_sqrt = square_root_curve(test_scores)"
   ]
  },
  {
   "attachments": {},
   "cell_type": "markdown",
   "metadata": {},
   "source": [
    "---\n",
    "\n",
    "## Refactoring Code"
   ]
  },
  {
   "cell_type": "code",
   "execution_count": null,
   "metadata": {},
   "outputs": [],
   "source": []
  }
 ],
 "metadata": {
  "kernelspec": {
   "display_name": "Python 3",
   "language": "python",
   "name": "python3"
  },
  "language_info": {
   "codemirror_mode": {
    "name": "ipython",
    "version": 3
   },
   "file_extension": ".py",
   "mimetype": "text/x-python",
   "name": "python",
   "nbconvert_exporter": "python",
   "pygments_lexer": "ipython3",
   "version": "3.7.0"
  },
  "orig_nbformat": 4,
  "vscode": {
   "interpreter": {
    "hash": "aee8b7b246df8f9039afb4144a1f6fd8d2ca17a180786b69acc140d282b71a49"
   }
  }
 },
 "nbformat": 4,
 "nbformat_minor": 2
}
